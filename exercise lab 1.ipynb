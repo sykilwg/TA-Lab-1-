{
 "cells": [
  {
   "cell_type": "code",
   "execution_count": 5,
   "id": "98571d04-7606-445a-a9b8-13d6d74342d4",
   "metadata": {},
   "outputs": [
    {
     "name": "stdout",
     "output_type": "stream",
     "text": [
      "Exercise 1: All pages extracted and saved successfully.\n"
     ]
    }
   ],
   "source": [
    "import PyPDF2\n",
    "\n",
    "with open('Business_Proposal.pdf', 'rb') as file:\n",
    "    reader = PyPDF2.PdfReader(file)\n",
    "\n",
    "    all_text = \"\\n\".join(page.extract_text() for page in reader.pages if page.extract_text())\n",
    "\n",
    "with open('business_proposal_all.txt', 'w', encoding='utf-8') as output_file:\n",
    "    output_file.write(all_text)\n",
    "\n",
    "print(\"Exercise 1: All pages extracted and saved successfully.\")\n"
   ]
  },
  {
   "cell_type": "code",
   "execution_count": 7,
   "id": "ff3f3438-8b04-42ce-a3c0-8da5b2b959d4",
   "metadata": {},
   "outputs": [
    {
     "name": "stdout",
     "output_type": "stream",
     "text": [
      "Exercise 2: Page 2 extracted and saved successfully.\n"
     ]
    }
   ],
   "source": [
    "import PyPDF2\n",
    "\n",
    "with open('Business_Proposal.pdf', 'rb') as file:\n",
    "    reader = PyPDF2.PdfReader(file)\n",
    "\n",
    "    page_2_text = reader.pages[1].extract_text() if len(reader.pages) > 1 else \"\"\n",
    "\n",
    "with open('business_proposal_page_2.txt', 'w', encoding='utf-8') as output_page_2:\n",
    "    output_page_2.write(page_2_text)\n",
    "\n",
    "print(\"Exercise 2: Page 2 extracted and saved successfully.\")\n"
   ]
  },
  {
   "cell_type": "code",
   "execution_count": null,
   "id": "feafd4c9-33b5-494a-93f9-42f018e72739",
   "metadata": {},
   "outputs": [],
   "source": []
  }
 ],
 "metadata": {
  "kernelspec": {
   "display_name": "Python [conda env:base] *",
   "language": "python",
   "name": "conda-base-py"
  },
  "language_info": {
   "codemirror_mode": {
    "name": "ipython",
    "version": 3
   },
   "file_extension": ".py",
   "mimetype": "text/x-python",
   "name": "python",
   "nbconvert_exporter": "python",
   "pygments_lexer": "ipython3",
   "version": "3.12.7"
  }
 },
 "nbformat": 4,
 "nbformat_minor": 5
}
